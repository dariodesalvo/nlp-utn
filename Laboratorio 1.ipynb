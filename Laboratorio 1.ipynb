{
 "cells": [
  {
   "cell_type": "markdown",
   "id": "12e90996",
   "metadata": {},
   "source": [
    "# Laboratorio 1"
   ]
  },
  {
   "cell_type": "markdown",
   "id": "3ff8d93c-2fa9-43d3-b9c6-42c48b5a5e75",
   "metadata": {},
   "source": [
    "#  Probando\tsus\tconocimientos\n"
   ]
  },
  {
   "cell_type": "markdown",
   "id": "c3278631-12ef-41da-9cae-77518a08844e",
   "metadata": {},
   "source": [
    "Basado\ten\tlo\tque\taprendió\ten\tlas\tsecciones\tprevias,\tresponda\tlas\tsiguientes\tpreguntas:\t\n",
    "**\tRemueva\tlas\tpuntuaciones\ty\tconvierta\ta\tminúsculas (lower\tcase)\tantes\tde\thacer\tlas\tcuentas\t**\t\n"
   ]
  },
  {
   "cell_type": "code",
   "execution_count": 75,
   "id": "20a54201-4de2-482f-8140-b3107c4339bc",
   "metadata": {},
   "outputs": [],
   "source": [
    "import nltk\n",
    "import string\n",
    "from nltk import\tword_tokenize, re\n",
    "from nltk.book\timport text1, text7"
   ]
  },
  {
   "cell_type": "code",
   "execution_count": 76,
   "id": "4f8444c3-09f4-4458-b5ed-471039184a54",
   "metadata": {},
   "outputs": [],
   "source": [
    "tokens_moby_dick = text1.tokens"
   ]
  },
  {
   "cell_type": "code",
   "execution_count": 77,
   "id": "2b6e068d-e900-4f2f-9c47-a5ed503258e7",
   "metadata": {},
   "outputs": [],
   "source": [
    "\n",
    "moby_dick_tokens_nopunct =\t[word.lower() for word in tokens_moby_dick if re.search(\"\\w\",\tword)]\n"
   ]
  },
  {
   "cell_type": "markdown",
   "id": "9760098a-d128-453a-9da8-c095438fc6d3",
   "metadata": {},
   "source": [
    "1. Cuál\tes\tel\tnúmero\tde\ttokens\ten\tMoby\tDick?"
   ]
  },
  {
   "cell_type": "code",
   "execution_count": 78,
   "id": "33c03e55-b2a3-4723-bd21-aac63df3984a",
   "metadata": {
    "tags": []
   },
   "outputs": [],
   "source": [
    "moby_dick_tokens = len(moby_dick_tokens_nopunct)"
   ]
  },
  {
   "cell_type": "markdown",
   "id": "04fb0f0f-a2f1-463e-9bc2-27ba9c41da61",
   "metadata": {},
   "source": [
    "2.\tCuál\tes\tel\tnúmero\tde\ttypes\ten\tMoby\tDick?\t\n",
    "El\ttype-token\tratio\tes\tuna\tmedida\tde\tcuán diverso\tson\tlos\títems léxicos\ten un\ttexto\tdado. Está\tdefinido\t\n",
    "por\tel\tnúmero\tde\ttypes\tdividido\tpor\tel\tnúmero\tde\ttokens.\tCuánto\tmás\talto\tes\teste\tratio,\tconsideramos\tal\t\n",
    "texto\tcomo\tmás\tdiverso\ten\tpalabras,\ttambién\tconocido\tcomo\t“diversidad\tléxica”.\tEn\totras\tpalabras,\t\n",
    "textos\tcon\tmayor\t“lexical\tdiversity” usan\tuna\tgran\tvariedad\tde\tpalabras,\tde\tmanera\topuesta\ta\tlos\tque\t\n",
    "usan\tlas\tmismas\tpalabras\trepetidamente. Para\ttener\tuna\tintuición,\tsuponga\tdos\ttextos\tque\ttienen\tel\t\n",
    "mismo\tnúmero\tde\ttokens,\tel\tque\tque tiene\tmás\ttypes\tes\tel\tmás\tdiverso\tléxicamente.\t\n",
    "Combinando\testos\tdos\tmétodos\tpara\tcontart\ttypes\ty\ttokens,\tpuede\tencontrar\tel\ttype-token\tratio de\tMoby\t\n",
    "Dick.\tHaga\tlo mismo para\tel\tcorpus\tdel\tWSJ\t(Wall\tStreet\tJournal).\t\n"
   ]
  },
  {
   "cell_type": "code",
   "execution_count": 95,
   "id": "4c488c9f-9dc5-44ca-9499-53164df07042",
   "metadata": {},
   "outputs": [],
   "source": [
    "moby_dick_types = len(set(moby_dick_tokens_nopunct))"
   ]
  },
  {
   "cell_type": "markdown",
   "id": "19932373-91b4-40e9-be5e-f139f3a6ffa3",
   "metadata": {},
   "source": [
    "3.\tMoby\tDick\ttype-token\tratio\t=\n"
   ]
  },
  {
   "cell_type": "code",
   "execution_count": 81,
   "id": "256e13fe-a5d6-422a-9074-d486555361f9",
   "metadata": {},
   "outputs": [
    {
     "data": {
      "text/plain": [
       "0.07840051962071347"
      ]
     },
     "execution_count": 81,
     "metadata": {},
     "output_type": "execute_result"
    }
   ],
   "source": [
    "moby_dick_type_token_ratio = moby_dick_types / moby_dick_tokens\n",
    "moby_dick_type_token_ratio"
   ]
  },
  {
   "cell_type": "markdown",
   "id": "eecf0f75-38b9-4f50-afeb-8149ae6174f8",
   "metadata": {},
   "source": [
    "4.\tWSJ\ttype-token\tratio\tis\t=\n"
   ]
  },
  {
   "cell_type": "code",
   "execution_count": 83,
   "id": "aa8c3c43-0176-4649-a841-c88511c24159",
   "metadata": {},
   "outputs": [
    {
     "data": {
      "text/plain": [
       "0.129748424801388"
      ]
     },
     "execution_count": 83,
     "metadata": {},
     "output_type": "execute_result"
    }
   ],
   "source": [
    "tokens_wsj = text7.tokens\n",
    "wsj_tokens_nopunct =\t[word.lower() for word in tokens_wsj if re.search(\"\\w\",\tword)]\n",
    "wsj_tokens = len(wsj_tokens_nopunct)\n",
    "wsj_types = len(set(wsj_tokens_nopunct))\n",
    "wsj_type_token_ratio = wsj_types / wsj_tokens\n",
    "wsj_type_token_ratio"
   ]
  },
  {
   "cell_type": "markdown",
   "id": "e70d9645-ebe9-4a9b-9212-8fc027a7fcf0",
   "metadata": {
    "tags": []
   },
   "source": [
    "5. Cuál\tde\tlos\tdos\ttiene\tmás\tdiversidad\tléxica?\t\n",
    "    "
   ]
  },
  {
   "cell_type": "raw",
   "id": "3c6efdac-13af-415c-9035-f011881e1a44",
   "metadata": {},
   "source": [
    "Tiene mayor diversidad léxica el texto de WSJ."
   ]
  },
  {
   "cell_type": "markdown",
   "id": "76b5d7ed-ed0d-4203-a1ff-26c65ec21be3",
   "metadata": {},
   "source": [
    "6.\tPuede pensar una razón por\tla cual ese\tcorpus\tes\tmás\tdiverso\tque\tel\totro?\t"
   ]
  },
  {
   "cell_type": "raw",
   "id": "e94d80df-c68e-4663-8198-98d15fce5a1c",
   "metadata": {},
   "source": [
    "Moby dick al ser una novela repite en muchas ocasiones artículos, nexos coordinantes, nombres de personajes, etc."
   ]
  },
  {
   "cell_type": "markdown",
   "id": "97073d3f-0034-4b23-a5c4-7ff4d5dfe8fd",
   "metadata": {},
   "source": [
    "7.\tCual\tes el\t“Maximum\tLikelikhood\tEstimate\t(MLE)” de\tla\tpalabra\t“whale” (ballena)\ten\tMoby\tDick?\t"
   ]
  },
  {
   "cell_type": "code",
   "execution_count": 92,
   "id": "a475c571-6ff2-4017-805f-d175add98473",
   "metadata": {},
   "outputs": [],
   "source": [
    "from nltk.probability import FreqDist\n",
    "fdist_moby_dick = FreqDist(text1)"
   ]
  },
  {
   "cell_type": "code",
   "execution_count": 96,
   "id": "c787a9d0-d200-42c0-8ad0-c4eb5ceb7cce",
   "metadata": {},
   "outputs": [
    {
     "data": {
      "text/plain": [
       "0.004144158154980537"
      ]
     },
     "execution_count": 96,
     "metadata": {},
     "output_type": "execute_result"
    }
   ],
   "source": [
    "P_moby_dick_whale\t= fdist_moby_dick['whale'] / moby_dick_tokens\n",
    "P_moby_dick_whale"
   ]
  },
  {
   "cell_type": "markdown",
   "id": "9718bfe4-118b-41fe-a0cc-6e4800d9209d",
   "metadata": {},
   "source": [
    "8.\tCuál\tes\tel MLE\tde\t“whale”\ten\tel\tcorpus\tde\tWSJ?\t"
   ]
  },
  {
   "cell_type": "code",
   "execution_count": 97,
   "id": "6c862929-6090-4fd2-9154-f3a15c74d806",
   "metadata": {
    "tags": []
   },
   "outputs": [
    {
     "data": {
      "text/plain": [
       "0.0"
      ]
     },
     "execution_count": 97,
     "metadata": {},
     "output_type": "execute_result"
    }
   ],
   "source": [
    "fdist_wsj = FreqDist(text7)\n",
    "P_wsj_whale\t= fdist_wsj['whale'] / wsj_tokens\n",
    "P_wsj_whale"
   ]
  },
  {
   "cell_type": "markdown",
   "id": "9350a2b5-7995-4dee-930d-395b41b4bb10",
   "metadata": {},
   "source": [
    "# Utilizando Suavizado de Laplace"
   ]
  },
  {
   "cell_type": "code",
   "execution_count": 99,
   "id": "86f36601-3e3a-4462-988c-5f9e96ff5f6b",
   "metadata": {},
   "outputs": [
    {
     "data": {
      "text/plain": [
       "0.003847116359363932"
      ]
     },
     "execution_count": 99,
     "metadata": {},
     "output_type": "execute_result"
    }
   ],
   "source": [
    "P_moby_dick_whale\t= (fdist_moby_dick['whale'] + 1) / (moby_dick_tokens + moby_dick_types)\n",
    "P_moby_dick_whale"
   ]
  },
  {
   "cell_type": "code",
   "execution_count": 100,
   "id": "e68a2a29-257f-43d5-b846-42b8a6eb532f",
   "metadata": {},
   "outputs": [
    {
     "data": {
      "text/plain": [
       "1.0103561505430664e-05"
      ]
     },
     "execution_count": 100,
     "metadata": {},
     "output_type": "execute_result"
    }
   ],
   "source": [
    "P_wsj_whale\t= (fdist_wsj['whale'] + 1) / (wsj_tokens + wsj_types)\n",
    "P_wsj_whale"
   ]
  }
 ],
 "metadata": {
  "kernelspec": {
   "display_name": "Python 3 (ipykernel)",
   "language": "python",
   "name": "python3"
  },
  "language_info": {
   "codemirror_mode": {
    "name": "ipython",
    "version": 3
   },
   "file_extension": ".py",
   "mimetype": "text/x-python",
   "name": "python",
   "nbconvert_exporter": "python",
   "pygments_lexer": "ipython3",
   "version": "3.10.4"
  }
 },
 "nbformat": 4,
 "nbformat_minor": 5
}
