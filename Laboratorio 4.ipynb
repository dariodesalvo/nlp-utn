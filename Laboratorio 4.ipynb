{
 "cells": [
  {
   "cell_type": "markdown",
   "id": "0035b396-6354-4262-abcb-5ccdfe7eef60",
   "metadata": {},
   "source": [
    "# Lab\t4\n",
    "# Semántica\tléxica (Lexical\tSemantic)\n"
   ]
  },
  {
   "cell_type": "markdown",
   "id": "6f78d445-c462-4134-8ede-d16d1b08e402",
   "metadata": {},
   "source": [
    "1 De qué se trata?\n",
    "\n",
    "Este laboratorio se centra en la semántica léxica y utiliza NLTK para brindarte experiencia\n",
    "práctica con WordNet y realizar la desambiguación del sentido de las palabras.\n",
    "El ejercicio se basa en tutoriales en el sitio web de NLTK\n",
    "http://www.nltk.org/howto/wordnet.html."
   ]
  },
  {
   "cell_type": "markdown",
   "id": "76cc9f11-72f3-4e24-b4c5-a53243311d22",
   "metadata": {},
   "source": [
    "2 NLTK environment\n",
    "\n",
    "El\tprimer\tpaso\tes\timportar\tNLTK\ty\talgunos\tcorpus\tcomo\ten\tlos\túltimos\tlaboratorios.\tPara\tllevar\ta\tcabo\t\n",
    "este\tpaso,\tescriba:\n",
    ">>>\timport\tnltk\t\n",
    ">>>\tnltk.download()\t\n",
    "\n",
    "En\tel\tcuadro\tde\tdiálogo\tsiguiente,\telija\tel\tlibro\tque\tdescarga\ttodos\tlos\tcorpus\tutilizados\ten\tlos\tejemplos\ten\t\n",
    "el\tlibro\tNLTK1.\tHaga\tclic\ten\tdescargar\ty\tuna\tvez\tque\tfinalice\tla\tdescarga,\tpuede\tcerrar\tel\tcuadro\tde\t\n",
    "diálogo.\n",
    "Puede\timportar\tlos\tcorpus\tescribiendo:\n",
    ">>>\tfrom\tnltk.book\timport\t∗"
   ]
  },
  {
   "cell_type": "code",
   "execution_count": 1,
   "id": "71f6b089-8320-44fb-a6f5-88a8c1ccdd76",
   "metadata": {},
   "outputs": [
    {
     "name": "stdout",
     "output_type": "stream",
     "text": [
      "*** Introductory Examples for the NLTK Book ***\n",
      "Loading text1, ..., text9 and sent1, ..., sent9\n",
      "Type the name of the text or sentence to view it.\n",
      "Type: 'texts()' or 'sents()' to list the materials.\n",
      "text1: Moby Dick by Herman Melville 1851\n",
      "text2: Sense and Sensibility by Jane Austen 1811\n",
      "text3: The Book of Genesis\n",
      "text4: Inaugural Address Corpus\n",
      "text5: Chat Corpus\n",
      "text6: Monty Python and the Holy Grail\n",
      "text7: Wall Street Journal\n",
      "text8: Personals Corpus\n",
      "text9: The Man Who Was Thursday by G . K . Chesterton 1908\n"
     ]
    }
   ],
   "source": [
    "import\tnltk\n",
    "from nltk.book import *"
   ]
  },
  {
   "cell_type": "markdown",
   "id": "2b30d97b-f770-4588-ab9b-fa1d790eb318",
   "metadata": {},
   "source": [
    "3 Accediendo a WordNet\n",
    "Podes\timportar\tWordNet\tejecutando:\n",
    ">>>\tfrom\tnltk.corpus\timport\twordnet\tas\twn\t\n",
    "\n",
    "Como\tvimos en\tlas\tclases,\tWordNet\testá\torganizado\tcomo\tsynsets,\tcada\tsynset\tes\tun\tconjunto\tde\t\n",
    "palabras\tsinónimas.\tUna\tpalabra\taparecerá\ten\tmúltiples\tsynsets\tsi\ttiene\tmúltiples\tsentidos(senses),\tasí\t\n",
    "como\tsi\tpuede\taparecer\ten\tmás\tde\tun\tPOS.\t\n",
    "Por\tejemplo: sustantivo\ty\tverbo.\tPodes recuperar\ttodos\tlos\tsynsets\tasociados\tcon\tuna\tpalabra\tusando\tla\t\n",
    "llamada\tal\tmétodo\tsynsets():"
   ]
  },
  {
   "cell_type": "code",
   "execution_count": 3,
   "id": "916fb596-5038-4a76-a4ce-9b3cb17659b1",
   "metadata": {},
   "outputs": [
    {
     "data": {
      "text/plain": [
       "[Synset('dog.n.01'),\n",
       " Synset('frump.n.01'),\n",
       " Synset('dog.n.03'),\n",
       " Synset('cad.n.01'),\n",
       " Synset('frank.n.02'),\n",
       " Synset('pawl.n.01'),\n",
       " Synset('andiron.n.01'),\n",
       " Synset('chase.v.01')]"
      ]
     },
     "execution_count": 3,
     "metadata": {},
     "output_type": "execute_result"
    }
   ],
   "source": [
    "from nltk.corpus import\twordnet\tas wn\n",
    "wn.synsets(\"dog\")"
   ]
  },
  {
   "cell_type": "markdown",
   "id": "05581311-502a-4928-9ba7-e0e6833f164c",
   "metadata": {},
   "source": [
    "Vemos\tque\thay\t7\tsynsets\tde\tsustantivos\ty\t1\tsynset\tde\tverbos\tasociados\tcon\tla\tpalabra\t\"perro\".\tPuede\t\n",
    "restringir\tla\trecuperación\ta\tun\tPOS particular\tutilizando\tel\targumento\tpos."
   ]
  },
  {
   "cell_type": "code",
   "execution_count": 6,
   "id": "95f592de-ac8d-4150-bc73-29603842a70e",
   "metadata": {},
   "outputs": [
    {
     "data": {
      "text/plain": [
       "[Synset('chase.v.01')]"
      ]
     },
     "execution_count": 6,
     "metadata": {},
     "output_type": "execute_result"
    }
   ],
   "source": [
    "wn.synsets(\"dog\",\tpos=wn.VERB)"
   ]
  },
  {
   "cell_type": "markdown",
   "id": "47e8eac5-6502-43a2-af8a-ef6baba68a74",
   "metadata": {},
   "source": [
    "Como habrás visto en los ejemplos anteriores, se hace referencia a un conjunto de sistemas en\n",
    "particular usando una palabra, una etiqueta de POS y un indicador de número.\n",
    "Como hablamos en clase, los synsets se ordenan según la frecuencia. dog.n.01 es el primer\n",
    "sentido (o el más frecuente) de perro. El segundo sentido de perro se puede denominar\n",
    "dog.n.02.\n",
    "En la salida anterior, el segundo synset se conoce como frump.n.01. Este synset es el mismo\n",
    "que dog.n.02. frump.n.01 solo significa que este synset es también el primer synset para la\n",
    "palabra \"frump\". Pruebe lo siguiente para comprender mejor:"
   ]
  },
  {
   "cell_type": "code",
   "execution_count": 10,
   "id": "5deffa82-02f4-4cf8-b1c7-d08f980b8292",
   "metadata": {},
   "outputs": [
    {
     "data": {
      "text/plain": [
       "Synset('dog.n.01')"
      ]
     },
     "execution_count": 10,
     "metadata": {},
     "output_type": "execute_result"
    }
   ],
   "source": [
    "wn.synset(\"dog.n.01\")"
   ]
  },
  {
   "cell_type": "code",
   "execution_count": 11,
   "id": "dbbb0a0b-3133-4a2e-ab15-2225c54f6bba",
   "metadata": {},
   "outputs": [
    {
     "data": {
      "text/plain": [
       "Synset('frump.n.01')"
      ]
     },
     "execution_count": 11,
     "metadata": {},
     "output_type": "execute_result"
    }
   ],
   "source": [
    "wn.synset(\"dog.n.02\")"
   ]
  },
  {
   "cell_type": "code",
   "execution_count": 12,
   "id": "8660cdce-c7df-4745-9023-8286688ef731",
   "metadata": {},
   "outputs": [
    {
     "data": {
      "text/plain": [
       "Synset('frump.n.01')"
      ]
     },
     "execution_count": 12,
     "metadata": {},
     "output_type": "execute_result"
    }
   ],
   "source": [
    "wn.synset(\"frump.n.01\")"
   ]
  },
  {
   "cell_type": "markdown",
   "id": "b88e9032-e5d7-49c7-9f32-88861898de80",
   "metadata": {},
   "source": [
    "Ahora,\tpreguntemosle\ta\tWordNet\tdefiniciones\tde\tcada sentido y los sinónimos\tagrupados\ten\tun\tsynset."
   ]
  },
  {
   "cell_type": "code",
   "execution_count": 14,
   "id": "c92916b7-8b84-4e11-a5a8-df266f02ec60",
   "metadata": {},
   "outputs": [
    {
     "data": {
      "text/plain": [
       "'a member of the genus Canis (probably descended from the common wolf) that has been domesticated by man since prehistoric times; occurs in many breeds'"
      ]
     },
     "execution_count": 14,
     "metadata": {},
     "output_type": "execute_result"
    }
   ],
   "source": [
    "wn.synset(\"dog.n.01\").definition()"
   ]
  },
  {
   "cell_type": "code",
   "execution_count": 15,
   "id": "7101a53a-c024-4b77-a953-4e5d179032ae",
   "metadata": {},
   "outputs": [
    {
     "data": {
      "text/plain": [
       "'a dull unattractive unpleasant girl or woman'"
      ]
     },
     "execution_count": 15,
     "metadata": {},
     "output_type": "execute_result"
    }
   ],
   "source": [
    "wn.synset(\"dog.n.02\").definition()"
   ]
  },
  {
   "cell_type": "markdown",
   "id": "a4b79ffc-8e2f-4cbd-97e9-cabec8b3e154",
   "metadata": {},
   "source": [
    "Los\tsinónimos de\tun\tsynset\tpueden\tser\tobtenidos\tusando\tel\tmétodo\tlemmas()."
   ]
  },
  {
   "cell_type": "code",
   "execution_count": 17,
   "id": "b600ecf8-dd60-4264-bfdc-c62d26c90e61",
   "metadata": {},
   "outputs": [
    {
     "data": {
      "text/plain": [
       "[Lemma('dog.n.01.dog'),\n",
       " Lemma('dog.n.01.domestic_dog'),\n",
       " Lemma('dog.n.01.Canis_familiaris')]"
      ]
     },
     "execution_count": 17,
     "metadata": {},
     "output_type": "execute_result"
    }
   ],
   "source": [
    "wn.synset(\"dog.n.01\").lemmas()"
   ]
  },
  {
   "cell_type": "markdown",
   "id": "ad5439d8-2401-40df-b892-a8fab31d46b1",
   "metadata": {},
   "source": [
    "Hay\ttres sinónomos\tpara\tel\tsynset\tde\t‘dog’:\t‘dog’,\t‘domestic\tdog’\ty ‘Canis\tfamiliaris’.\tEstos aparecen\ten\tel\n",
    "ouput de\tla\túltima\tinstrucción.\n",
    "Ejercicio:\tIntenta\tobtener\tlos\tlemas\tpara\tel\tsegundo\tsentido\tdel\t“dog”."
   ]
  },
  {
   "cell_type": "code",
   "execution_count": 18,
   "id": "cc1d7b13-c144-44c8-921b-5dad5fa3b3ef",
   "metadata": {},
   "outputs": [
    {
     "data": {
      "text/plain": [
       "[Lemma('frump.n.01.frump'), Lemma('frump.n.01.dog')]"
      ]
     },
     "execution_count": 18,
     "metadata": {},
     "output_type": "execute_result"
    }
   ],
   "source": [
    "wn.synset(\"dog.n.02\").lemmas()"
   ]
  },
  {
   "cell_type": "markdown",
   "id": "fa5c287c-8f2a-427e-b692-e5b03b23ea32",
   "metadata": {},
   "source": [
    "Las otras\tPart of\tSpeech\tson\tNOUN, ADJ\ty\tADV.\t\n",
    "Un\tsynset\tse\tidentifica\tpor\tun\tconjunto de\t3\tpartes,\t siguiendo\tla\tforma:\tword.pos.nn"
   ]
  },
  {
   "cell_type": "code",
   "execution_count": 26,
   "id": "45a2d4d0-ce92-4205-9924-ae85933e7832",
   "metadata": {},
   "outputs": [
    {
     "data": {
      "text/plain": [
       "Synset('dog.n.01')"
      ]
     },
     "execution_count": 26,
     "metadata": {},
     "output_type": "execute_result"
    }
   ],
   "source": [
    "wn.synset('dog.n.01')"
   ]
  },
  {
   "cell_type": "code",
   "execution_count": 27,
   "id": "3c31e844-0255-4c33-82cf-36215bd0aee5",
   "metadata": {},
   "outputs": [
    {
     "name": "stdout",
     "output_type": "stream",
     "text": [
      "a member of the genus Canis (probably descended from the common wolf) that has been domesticated by man since prehistoric times; occurs in many breeds\n"
     ]
    }
   ],
   "source": [
    "print(wn.synset('dog.n.01').definition())"
   ]
  },
  {
   "cell_type": "code",
   "execution_count": 28,
   "id": "5acc3aa8-c98b-48f6-bbf7-f6931dc4d487",
   "metadata": {},
   "outputs": [
    {
     "data": {
      "text/plain": [
       "1"
      ]
     },
     "execution_count": 28,
     "metadata": {},
     "output_type": "execute_result"
    }
   ],
   "source": [
    "len(wn.synset('dog.n.01').examples())"
   ]
  },
  {
   "cell_type": "code",
   "execution_count": 29,
   "id": "2ab7f02d-d621-48a0-b3e3-c864de6c12f0",
   "metadata": {},
   "outputs": [
    {
     "name": "stdout",
     "output_type": "stream",
     "text": [
      "the dog barked all night\n"
     ]
    }
   ],
   "source": [
    "print(wn.synset('dog.n.01').examples()[0])"
   ]
  },
  {
   "cell_type": "code",
   "execution_count": 30,
   "id": "577316d9-69f6-4a62-a4be-f0a64c5ec66a",
   "metadata": {},
   "outputs": [
    {
     "data": {
      "text/plain": [
       "[Lemma('dog.n.01.dog'),\n",
       " Lemma('dog.n.01.domestic_dog'),\n",
       " Lemma('dog.n.01.Canis_familiaris')]"
      ]
     },
     "execution_count": 30,
     "metadata": {},
     "output_type": "execute_result"
    }
   ],
   "source": [
    "wn.synset('dog.n.01').lemmas()"
   ]
  },
  {
   "cell_type": "code",
   "execution_count": 31,
   "id": "3e8ff3d2-3188-451d-a721-9f5d22f14ab1",
   "metadata": {},
   "outputs": [
    {
     "data": {
      "text/plain": [
       "['dog', 'domestic_dog', 'Canis_familiaris']"
      ]
     },
     "execution_count": 31,
     "metadata": {},
     "output_type": "execute_result"
    }
   ],
   "source": [
    "[str(lemma.name()) for lemma in wn.synset('dog.n.01').lemmas()]"
   ]
  },
  {
   "cell_type": "code",
   "execution_count": 32,
   "id": "ce532eb2-94d8-427d-aa29-444d7fff8233",
   "metadata": {},
   "outputs": [
    {
     "data": {
      "text/plain": [
       "Synset('dog.n.01')"
      ]
     },
     "execution_count": 32,
     "metadata": {},
     "output_type": "execute_result"
    }
   ],
   "source": [
    "wn.lemma('dog.n.01.dog').synset()"
   ]
  },
  {
   "cell_type": "markdown",
   "id": "411e3274-f703-4936-b270-4917ded51205",
   "metadata": {},
   "source": [
    "4 Relaciones entre palabras en WordNet\n",
    "Ahora veamos cómo consultar las relaciones entre los synsets de WordNet. Recuerde que\n",
    "el hiperónimo se refiere al superconjunto de una entidad y el hipónimo se refiere a\n",
    "subconjuntos más específicos.\n",
    "Puede consultar hipernimos e hipónimos utilizando los siguientes métodos:"
   ]
  },
  {
   "cell_type": "code",
   "execution_count": 33,
   "id": "8b870cb7-be5c-400a-85ab-95bebe85125e",
   "metadata": {},
   "outputs": [],
   "source": [
    "dog\t=\twn.synset(\"dog.n.01\")"
   ]
  },
  {
   "cell_type": "code",
   "execution_count": 34,
   "id": "2c8bfa30-2195-4273-b1b5-1788cc6b3245",
   "metadata": {},
   "outputs": [
    {
     "data": {
      "text/plain": [
       "[Synset('canine.n.02'), Synset('domestic_animal.n.01')]"
      ]
     },
     "execution_count": 34,
     "metadata": {},
     "output_type": "execute_result"
    }
   ],
   "source": [
    "dog.hypernyms()"
   ]
  },
  {
   "cell_type": "code",
   "execution_count": 35,
   "id": "fb9eea9d-1a81-48ba-ba90-27d2d1052c1e",
   "metadata": {},
   "outputs": [
    {
     "data": {
      "text/plain": [
       "[Synset('basenji.n.01'),\n",
       " Synset('corgi.n.01'),\n",
       " Synset('cur.n.01'),\n",
       " Synset('dalmatian.n.02'),\n",
       " Synset('great_pyrenees.n.01'),\n",
       " Synset('griffon.n.02'),\n",
       " Synset('hunting_dog.n.01'),\n",
       " Synset('lapdog.n.01'),\n",
       " Synset('leonberg.n.01'),\n",
       " Synset('mexican_hairless.n.01'),\n",
       " Synset('newfoundland.n.01'),\n",
       " Synset('pooch.n.01'),\n",
       " Synset('poodle.n.01'),\n",
       " Synset('pug.n.01'),\n",
       " Synset('puppy.n.01'),\n",
       " Synset('spitz.n.01'),\n",
       " Synset('toy_dog.n.01'),\n",
       " Synset('working_dog.n.01')]"
      ]
     },
     "execution_count": 35,
     "metadata": {},
     "output_type": "execute_result"
    }
   ],
   "source": [
    "dog.hyponyms()"
   ]
  },
  {
   "cell_type": "markdown",
   "id": "725ed35a-4f52-474b-9aa4-8203a27d64ac",
   "metadata": {},
   "source": [
    "Como ya vimos en la sección anterior, las formas de palabras individuales en un conjunto se\n",
    "conocen como lemas. Algunas relaciones solo se mantienen entre lemas (es decir, entre\n",
    "formas de palabras específicas) en lugar de los conjuntos de sinónimos.\n",
    "Por ejemplo, recupere el primer synset asociado con el adjetivo \"good\" (bueno, en inglés) e\n",
    "imprima sus lemas."
   ]
  },
  {
   "cell_type": "code",
   "execution_count": 37,
   "id": "f1bfcf51-6e42-4d79-8248-07a2594b0d3f",
   "metadata": {},
   "outputs": [],
   "source": [
    "good\t=\twn.synset(\"good.a.01\")\t"
   ]
  },
  {
   "cell_type": "code",
   "execution_count": 38,
   "id": "8f0220c0-b838-4c23-a227-4b71041335cd",
   "metadata": {},
   "outputs": [
    {
     "data": {
      "text/plain": [
       "[Lemma('good.a.01.good')]"
      ]
     },
     "execution_count": 38,
     "metadata": {},
     "output_type": "execute_result"
    }
   ],
   "source": [
    "good.lemmas()"
   ]
  },
  {
   "cell_type": "code",
   "execution_count": 39,
   "id": "111033f2-75aa-4765-b8d9-d0aa7e2b1929",
   "metadata": {},
   "outputs": [],
   "source": [
    "g0\t=\tgood.lemmas()[0]"
   ]
  },
  {
   "cell_type": "code",
   "execution_count": 40,
   "id": "f1696ca3-cb88-4b35-af4b-a3939d537b26",
   "metadata": {},
   "outputs": [
    {
     "data": {
      "text/plain": [
       "[Lemma('bad.a.01.bad')]"
      ]
     },
     "execution_count": 40,
     "metadata": {},
     "output_type": "execute_result"
    }
   ],
   "source": [
    "g0.antonyms()"
   ]
  },
  {
   "cell_type": "markdown",
   "id": "fda35d63-ba5a-4694-a70f-fb81edd4fff9",
   "metadata": {},
   "source": [
    "Exploremos también dos relaciones más: meronym y holonym. Un merónimo de una\n",
    "palabra es una subparte o miembro. Un holónimo es un todo del cual la palabra es parte o\n",
    "miembro. Hay métodos separados en NLTK que recuperan merónimos / holónimos para las\n",
    "relaciones entre partes y miembros. P.ej"
   ]
  },
  {
   "cell_type": "code",
   "execution_count": 45,
   "id": "e2faacfd-5b48-43e6-8dcc-86d6c420e94e",
   "metadata": {},
   "outputs": [
    {
     "data": {
      "text/plain": [
       "[Synset('flag.n.07')]"
      ]
     },
     "execution_count": 45,
     "metadata": {},
     "output_type": "execute_result"
    }
   ],
   "source": [
    "dog.part_meronyms()"
   ]
  },
  {
   "cell_type": "code",
   "execution_count": 46,
   "id": "a6b56ea7-5178-4927-9279-c6789bee05a1",
   "metadata": {},
   "outputs": [
    {
     "data": {
      "text/plain": [
       "[]"
      ]
     },
     "execution_count": 46,
     "metadata": {},
     "output_type": "execute_result"
    }
   ],
   "source": [
    "dog.member_meronyms()\t"
   ]
  },
  {
   "cell_type": "code",
   "execution_count": 47,
   "id": "e57bbd3f-df5f-4130-81bc-859018386f0c",
   "metadata": {},
   "outputs": [
    {
     "data": {
      "text/plain": [
       "[]"
      ]
     },
     "execution_count": 47,
     "metadata": {},
     "output_type": "execute_result"
    }
   ],
   "source": [
    "dog.part_holonyms()"
   ]
  },
  {
   "cell_type": "code",
   "execution_count": 48,
   "id": "b571703d-3991-4dfa-874a-d7eab9955a08",
   "metadata": {},
   "outputs": [
    {
     "data": {
      "text/plain": [
       "[Synset('canis.n.01'), Synset('pack.n.06')]"
      ]
     },
     "execution_count": 48,
     "metadata": {},
     "output_type": "execute_result"
    }
   ],
   "source": [
    "dog.member_holonyms()"
   ]
  },
  {
   "cell_type": "markdown",
   "id": "26bdf5df-bbdf-4853-8d46-911367aa696a",
   "metadata": {},
   "source": [
    "Este resultado dice que flag.n.07 es parte de dog.n.01 y dog.n.01 es miembro de canis.n.01\n",
    "y pack.n.06.\n",
    "\n",
    "Ejercicio: Utilizando lo que ha estudiado hasta ahora, imprima las definiciones de flag.n.07,\n",
    "canis.n.01 y pack.n.06 y vea si ve por qué estos synsets están relacionados de esta\n",
    "manera."
   ]
  },
  {
   "cell_type": "code",
   "execution_count": 49,
   "id": "6c7e1cfb-2f81-41a8-a5af-bb17c517caa5",
   "metadata": {},
   "outputs": [
    {
     "name": "stdout",
     "output_type": "stream",
     "text": [
      "a conspicuously marked or shaped tail\n"
     ]
    }
   ],
   "source": [
    "print(wn.synset('flag.n.07').definition())"
   ]
  },
  {
   "cell_type": "code",
   "execution_count": 50,
   "id": "8e4d8053-42d6-4b70-ac5e-e6d94d757e10",
   "metadata": {},
   "outputs": [
    {
     "name": "stdout",
     "output_type": "stream",
     "text": [
      "type genus of the Canidae: domestic and wild dogs; wolves; jackals\n"
     ]
    }
   ],
   "source": [
    "print(wn.synset('canis.n.01').definition())"
   ]
  },
  {
   "cell_type": "code",
   "execution_count": 51,
   "id": "4db99523-921f-4cf4-a6bd-9d8c4d01c991",
   "metadata": {},
   "outputs": [
    {
     "name": "stdout",
     "output_type": "stream",
     "text": [
      "a cream that cleanses and tones the skin\n"
     ]
    }
   ],
   "source": [
    "print(wn.synset('pack.n.07').definition())"
   ]
  },
  {
   "cell_type": "markdown",
   "id": "10b1c8ea-e4c0-4893-81dc-40907cecb041",
   "metadata": {},
   "source": [
    "5 Desambiguación de palabras por sentido (Word Sense Desambiguation)\n",
    "Como vimos en las clases, la tarea de desambiguación del sentido de las palabras es tomar\n",
    "una palabra en el contexto de la oración y mapearla a uno de los sentidos de la palabra, por\n",
    "ejemplo. asignar a un synset en WordNet.\n",
    "Estudiamos dos enfoques, un sistema de clasificación supervisado donde las palabras de\n",
    "contexto entran como features(características) y el otro es el algoritmo de Lesk que utilizó el\n",
    "recurso del diccionario para la desambiguación.\n",
    "Ejercicio: recuerde el algoritmo de Lesk. ¿Cuáles fueron los pasos?\n",
    "Usamos el siguiente ejemplo en la clase, intentemos con el mismo."
   ]
  },
  {
   "cell_type": "markdown",
   "id": "98c58526-3945-4e3b-9b97-f485d5af9a90",
   "metadata": {},
   "source": [
    "“The\tbank\tcan\tguarantee\tdeposits\twill\teventually\tcover\tfuture\ttuition\tcosts\tbecause\tit\tinvests\tin\t\n",
    "adjustable- rate\tmortgage\tsecurities.”\n",
    "(El banco puede garantizar que los depósitos eventualmente cubrirán los costos de\n",
    "matrícula futuros porque invierte en valores hipotecarios de tasa ajustable.)\n",
    "\n",
    "Queremos eliminar la ambigüedad de “bank” en este contexto."
   ]
  },
  {
   "cell_type": "markdown",
   "id": "1caa3f03-21e7-4c26-b203-00bced0eb994",
   "metadata": {},
   "source": [
    "Ejercicio: ¿Cuántos sentidos crees que tiene la palabra bank?"
   ]
  },
  {
   "cell_type": "markdown",
   "id": "aca98947-2d5d-4c6f-b1c0-9bcf93e9af35",
   "metadata": {},
   "source": [
    "Use lo que ha estudiado hasta ahora para recuperar todos los synsets asociados con el\n",
    "\"bank\" con el POS de sustantivo. ¿Cuántos sentidos sustantivos de \"banco\" hay en\n",
    "WordNet? ."
   ]
  },
  {
   "cell_type": "code",
   "execution_count": 52,
   "id": "04f0cf6c-fbd7-4b91-93a0-f56d9b78d62a",
   "metadata": {},
   "outputs": [
    {
     "data": {
      "text/plain": [
       "[Synset('bank.n.01'),\n",
       " Synset('depository_financial_institution.n.01'),\n",
       " Synset('bank.n.03'),\n",
       " Synset('bank.n.04'),\n",
       " Synset('bank.n.05'),\n",
       " Synset('bank.n.06'),\n",
       " Synset('bank.n.07'),\n",
       " Synset('savings_bank.n.02'),\n",
       " Synset('bank.n.09'),\n",
       " Synset('bank.n.10'),\n",
       " Synset('bank.v.01'),\n",
       " Synset('bank.v.02'),\n",
       " Synset('bank.v.03'),\n",
       " Synset('bank.v.04'),\n",
       " Synset('bank.v.05'),\n",
       " Synset('deposit.v.02'),\n",
       " Synset('bank.v.07'),\n",
       " Synset('trust.v.01')]"
      ]
     },
     "execution_count": 52,
     "metadata": {},
     "output_type": "execute_result"
    }
   ],
   "source": [
    "wn.synsets(\"bank\")"
   ]
  },
  {
   "cell_type": "markdown",
   "id": "c629f21d-c70d-4a43-9525-8e9a679b9f40",
   "metadata": {},
   "source": [
    "¿Qué synset es el sentido correcto para la palabra en el contexto de la oración anterior?"
   ]
  },
  {
   "cell_type": "code",
   "execution_count": 54,
   "id": "f4f2a01a-1b33-4f93-8d27-966dfc4f8dc6",
   "metadata": {},
   "outputs": [
    {
     "name": "stdout",
     "output_type": "stream",
     "text": [
      "a financial institution that accepts deposits and channels the money into lending activities\n"
     ]
    }
   ],
   "source": [
    "print(wn.synset('depository_financial_institution.n.01').definition())"
   ]
  },
  {
   "cell_type": "markdown",
   "id": "59cecd96-09ee-4f69-9463-e07f6321452e",
   "metadata": {},
   "source": [
    "Ahora veamos qué nos da el algoritmo Lesk."
   ]
  },
  {
   "cell_type": "code",
   "execution_count": 55,
   "id": "2121a4b7-1f17-4ac6-ad8f-6fc32cdf28cd",
   "metadata": {},
   "outputs": [
    {
     "name": "stdout",
     "output_type": "stream",
     "text": [
      "Synset('bank.n.05')\n"
     ]
    }
   ],
   "source": [
    "from nltk.wsd import lesk\n",
    "from nltk import word_tokenize\n",
    "S = \"The bank can guarantee deposits will eventually cover future tuition costs because it invests in adjustable-rate mortgage securities.\"\n",
    "S_tok = word_tokenize(S)\n",
    "print(lesk(S_tok,\"bank\",\t\"n\"))\t"
   ]
  },
  {
   "cell_type": "code",
   "execution_count": 56,
   "id": "35924ce6-77c2-422d-8ad3-41e1e7a8066b",
   "metadata": {},
   "outputs": [
    {
     "name": "stdout",
     "output_type": "stream",
     "text": [
      "a supply or stock held in reserve for future use (especially in emergencies)\n"
     ]
    }
   ],
   "source": [
    "print(wn.synset('bank.n.05').definition())"
   ]
  },
  {
   "cell_type": "markdown",
   "id": "368e5ab4-7552-4e9d-b221-8735f14dda98",
   "metadata": {},
   "source": [
    "Ejercicio: ¿Qué synset fue producido por Lesk?\n",
    "¿Entiendes por qué tienes esta predicción? Veamos cómo NLTK está implementando Lesk.\n",
    "Puede encontrar el código fuente aquí http://www.nltk.org/_modules/nltk/wsd.html.\n",
    "Hagamos algunos diagnósticos."
   ]
  },
  {
   "cell_type": "code",
   "execution_count": 58,
   "id": "e3a996e1-076d-453a-9508-bb2107a364ac",
   "metadata": {},
   "outputs": [],
   "source": [
    "l\t=\tword_tokenize((wn.synset(\"bank.n.05\").definition()))"
   ]
  },
  {
   "cell_type": "code",
   "execution_count": 59,
   "id": "8f141331-ad92-42c3-8944-4fa45112b071",
   "metadata": {},
   "outputs": [],
   "source": [
    "m\t=\tword_tokenize((wn.synset(\"bank.n.02\").definition()))"
   ]
  },
  {
   "cell_type": "code",
   "execution_count": 60,
   "id": "1b7195f0-c64a-4d24-871c-f39ffbab81b3",
   "metadata": {},
   "outputs": [],
   "source": [
    "k\t=\tset(S_tok)"
   ]
  },
  {
   "cell_type": "code",
   "execution_count": 61,
   "id": "f3259f58-437e-4580-86bf-431e302809a8",
   "metadata": {},
   "outputs": [
    {
     "data": {
      "text/plain": [
       "{'future', 'in'}"
      ]
     },
     "execution_count": 61,
     "metadata": {},
     "output_type": "execute_result"
    }
   ],
   "source": [
    "k.intersection(l)\t"
   ]
  },
  {
   "cell_type": "code",
   "execution_count": 62,
   "id": "d3fad369-d215-4c43-89b0-27575401ac01",
   "metadata": {},
   "outputs": [
    {
     "data": {
      "text/plain": [
       "{'deposits'}"
      ]
     },
     "execution_count": 62,
     "metadata": {},
     "output_type": "execute_result"
    }
   ],
   "source": [
    "k.intersection(m)\t"
   ]
  },
  {
   "cell_type": "markdown",
   "id": "c6c6652a-f4f8-4af2-94eb-423d6ea2e89b",
   "metadata": {},
   "source": [
    "¿Ves ahora por qué tienes esta predicción?\n",
    "¿Qué cambios, de haber alguno, sugeriría para la correspondencia implementada por\n",
    "NLTK?"
   ]
  },
  {
   "cell_type": "markdown",
   "id": "24b5e875-d68f-4ea3-b49c-45f63b23e2de",
   "metadata": {},
   "source": [
    "Utilizando lo aprendido en el Lab3 -> Uso de CountVectorizer de SciKit-learn"
   ]
  },
  {
   "cell_type": "code",
   "execution_count": null,
   "id": "3a97c9e3-1f7a-4e76-b290-0d90559b97d9",
   "metadata": {},
   "outputs": [],
   "source": [
    "from sklearn.feature_extraction.text import CountVectorizer \n",
    "vectorizer = CountVectorizer(stop_words='english') \n",
    "analyze = vectorizer.build_analyzer()"
   ]
  },
  {
   "cell_type": "code",
   "execution_count": 68,
   "id": "555dd925-358d-4c36-a620-e925f50680a5",
   "metadata": {},
   "outputs": [],
   "source": [
    "S_tok_v2=analyze(\"The bank can guarantee deposits will eventually cover future tuition costs because it invests in adjustable-rate mortgage securities.\")"
   ]
  },
  {
   "cell_type": "code",
   "execution_count": 69,
   "id": "041af439-fe3b-4a09-8671-ef58811294ac",
   "metadata": {},
   "outputs": [
    {
     "name": "stdout",
     "output_type": "stream",
     "text": [
      "Synset('depository_financial_institution.n.01')\n"
     ]
    }
   ],
   "source": [
    "print(lesk(S_tok_v2,\"bank\",\t\"n\"))"
   ]
  },
  {
   "cell_type": "markdown",
   "id": "69571ed6-224d-486e-bae0-b89460834cb5",
   "metadata": {},
   "source": [
    "Ejercicio: para cada ejemplo, a continuación descubra el sentido correcto de WordNet según\n",
    "su criterio. Puede usar la búsqueda en línea de WordNet para navegar a través de los\n",
    "sentidos. http://wordnetweb.princeton.edu/perl/webwn."
   ]
  },
  {
   "cell_type": "code",
   "execution_count": 71,
   "id": "950a032c-aab8-4a81-8357-6108c5de9fed",
   "metadata": {},
   "outputs": [],
   "source": [
    "a=\"I\twent\tto\tthe\tbank\tto\tdeposit\tsome\tmoney\"\n",
    "b=\"She\tcreated\ta\tbig\tmess\tof\tthe\tbirthday\tcake\"\n",
    "c=\"In\tthe\tinterest\tof\tyour\tsafety,\tplease\twear\tyour\tseatbelt.\"\n",
    "d=\"I\tdrank\tsome\tice\tcold\twater.\""
   ]
  },
  {
   "cell_type": "code",
   "execution_count": 72,
   "id": "e0d2ef12-527d-4368-9e45-2acc236cff52",
   "metadata": {},
   "outputs": [
    {
     "name": "stdout",
     "output_type": "stream",
     "text": [
      "Synset('savings_bank.n.02')\n"
     ]
    }
   ],
   "source": [
    "A_tok = word_tokenize(a)\n",
    "print(lesk(A_tok,\"bank\",\t\"n\"))"
   ]
  },
  {
   "cell_type": "code",
   "execution_count": 73,
   "id": "578cc215-4259-48ac-a000-7c8e0f56dd20",
   "metadata": {},
   "outputs": [
    {
     "name": "stdout",
     "output_type": "stream",
     "text": [
      "a financial institution that accepts deposits and channels the money into lending activities\n"
     ]
    }
   ],
   "source": [
    "print(wn.synset(\"bank.n.02\").definition())"
   ]
  },
  {
   "cell_type": "code",
   "execution_count": 74,
   "id": "2cb41377-d764-403a-9c10-35c79d76cfd2",
   "metadata": {},
   "outputs": [
    {
     "name": "stdout",
     "output_type": "stream",
     "text": [
      "Synset('patty.n.01')\n"
     ]
    }
   ],
   "source": [
    "B_tok = word_tokenize(b)\n",
    "print(lesk(A_tok,\"cake\",\t\"n\"))"
   ]
  },
  {
   "cell_type": "code",
   "execution_count": 75,
   "id": "471f346d-66c1-4ba1-89ba-f0cb732b0a9d",
   "metadata": {},
   "outputs": [
    {
     "name": "stdout",
     "output_type": "stream",
     "text": [
      "small flat mass of chopped food\n"
     ]
    }
   ],
   "source": [
    "print(wn.synset(\"patty.n.01\").definition())"
   ]
  },
  {
   "cell_type": "code",
   "execution_count": 76,
   "id": "d164d2f8-6701-485b-9485-53f738818fee",
   "metadata": {},
   "outputs": [
    {
     "name": "stdout",
     "output_type": "stream",
     "text": [
      "Synset('seat_belt.n.01')\n"
     ]
    }
   ],
   "source": [
    "C_tok = word_tokenize(c)\n",
    "print(lesk(C_tok,\"seatbelt\",\t\"n\"))"
   ]
  },
  {
   "cell_type": "code",
   "execution_count": 77,
   "id": "ba0ebdf9-1dc0-40c9-8e3d-fa59a3ae2ed1",
   "metadata": {},
   "outputs": [
    {
     "name": "stdout",
     "output_type": "stream",
     "text": [
      "a safety belt used in a car or plane to hold you in your seat in case of an accident\n"
     ]
    }
   ],
   "source": [
    "print(wn.synset(\"seat_belt.n.01\").definition())"
   ]
  },
  {
   "cell_type": "code",
   "execution_count": 78,
   "id": "16112d84-7aae-43e4-8cf0-9febf148aaf1",
   "metadata": {},
   "outputs": [
    {
     "name": "stdout",
     "output_type": "stream",
     "text": [
      "Synset('ice_rink.n.01')\n"
     ]
    }
   ],
   "source": [
    "D_tok = word_tokenize(d)\n",
    "print(lesk(D_tok,\"ice\",\t\"n\"))"
   ]
  },
  {
   "cell_type": "code",
   "execution_count": 79,
   "id": "d885aec6-65d1-414d-a4a7-5498dfbe353b",
   "metadata": {},
   "outputs": [
    {
     "name": "stdout",
     "output_type": "stream",
     "text": [
      "a rink with a floor of ice for ice hockey or ice skating\n"
     ]
    }
   ],
   "source": [
    "print(wn.synset(\"ice_rink.n.01\").definition())"
   ]
  },
  {
   "cell_type": "code",
   "execution_count": 80,
   "id": "76f7ae77-719c-4f65-aca9-46a4b38a51b2",
   "metadata": {},
   "outputs": [
    {
     "data": {
      "text/plain": [
       "[Synset('cake.n.01'),\n",
       " Synset('patty.n.01'),\n",
       " Synset('cake.n.03'),\n",
       " Synset('coat.v.03')]"
      ]
     },
     "execution_count": 80,
     "metadata": {},
     "output_type": "execute_result"
    }
   ],
   "source": [
    "wn.synsets(\"cake\")"
   ]
  },
  {
   "cell_type": "code",
   "execution_count": 82,
   "id": "8b9411b0-3d22-4502-9824-dc709b791987",
   "metadata": {},
   "outputs": [
    {
     "name": "stdout",
     "output_type": "stream",
     "text": [
      "baked goods made from or based on a mixture of flour, sugar, eggs, and fat\n"
     ]
    }
   ],
   "source": [
    "print(wn.synset(\"cake.n.03\").definition())"
   ]
  },
  {
   "cell_type": "markdown",
   "id": "4c3af1df-5b62-4f6d-98db-af07cd31fc86",
   "metadata": {},
   "source": [
    "La presición (sin aplicar preprocesamiento) fue de 0,5"
   ]
  },
  {
   "cell_type": "markdown",
   "id": "133d50dc-90e7-4ed3-a93e-a18e06ac2a7e",
   "metadata": {},
   "source": [
    "6 Un poco más allá\n",
    "A lemma form of a word groups inflections of a word together. ie. ‘walked’, ‘walking’, ‘walks’,\n",
    "‘walk’ are all inflections or morphological variants of the word ‘walk’.\n",
    "NLTK has facility to lemmatize words.\n",
    "Si ya estás cómodo con el contenido anterior, podés desafiarte con este ejercicio. Este\n",
    "ejercicio tiene un “final abierto”."
   ]
  },
  {
   "cell_type": "markdown",
   "id": "dc364646-d905-461f-b6cd-a1a961b90198",
   "metadata": {},
   "source": [
    "Ejercicio: un lemma de una palabra agrupa las inflexiones de una palabra. Es decir,\n",
    "‘walked’, ‘walking’, ‘walks’, ‘walk’ son todas inflexiones o variantes morfológicas de la\n",
    "palabra walk (\"caminar\"). NLTK tiene capacidad para lematizar palabras."
   ]
  },
  {
   "cell_type": "code",
   "execution_count": 83,
   "id": "a581188f-402f-48fb-aa28-34d3828ac2df",
   "metadata": {},
   "outputs": [],
   "source": [
    "from nltk.stem\timport\tWordNetLemmatizer\t\n",
    "\n",
    "wnLemmatizer =\tWordNetLemmatizer()\n"
   ]
  },
  {
   "cell_type": "code",
   "execution_count": 84,
   "id": "f08dca67-2b38-4a64-b36f-c6b785170036",
   "metadata": {},
   "outputs": [
    {
     "data": {
      "text/plain": [
       "'dog'"
      ]
     },
     "execution_count": 84,
     "metadata": {},
     "output_type": "execute_result"
    }
   ],
   "source": [
    "wnLemmatizer.lemmatize(\"dogs\",\t\"n\")"
   ]
  },
  {
   "cell_type": "code",
   "execution_count": 85,
   "id": "c188fbf9-23d5-40c9-82c2-876679b88101",
   "metadata": {},
   "outputs": [
    {
     "data": {
      "text/plain": [
       "'walk'"
      ]
     },
     "execution_count": 85,
     "metadata": {},
     "output_type": "execute_result"
    }
   ],
   "source": [
    "wnLemmatizer.lemmatize(\"walking\",\t\"v\")"
   ]
  },
  {
   "cell_type": "markdown",
   "id": "b8423fe9-75b3-42aa-a5b2-36f454c1b18b",
   "metadata": {},
   "source": [
    "Aquí informamos al lematizador si la palabra dada es un sustantivo o un verbo. La\n",
    "configuración predeterminada para el método es un sustantivo, es decir. si corre sin\n",
    "argumentos, el lema será correcto para los sustantivos pero quizás no para los verbos."
   ]
  },
  {
   "cell_type": "code",
   "execution_count": 86,
   "id": "77c5bd9b-0c82-4e4b-a2cb-01351e980c91",
   "metadata": {},
   "outputs": [
    {
     "data": {
      "text/plain": [
       "'dog'"
      ]
     },
     "execution_count": 86,
     "metadata": {},
     "output_type": "execute_result"
    }
   ],
   "source": [
    "wnLemmatizer.lemmatize(\"dogs\")"
   ]
  },
  {
   "cell_type": "markdown",
   "id": "517bc88f-3a83-478c-9dc5-0ed792e5166a",
   "metadata": {},
   "source": [
    "¿Podrías mejorar el algoritmo de Lesk con un lematizador? Si es así, ¿podrías escribir una\n",
    "función de match, que tome dos cadenas y devuelva las palabras coincidentes entre ellas?\n",
    "Queremos que las coincidencias(matches) sean útiles para un algoritmo como Lesk.\n",
    "¿Quizás también necesites usar un etiquetador POS? Podes usar un etiquetador POS\n",
    "incorporado en WordNet."
   ]
  },
  {
   "cell_type": "code",
   "execution_count": 87,
   "id": "4b4c00c4-a826-4745-8f78-19e11440adde",
   "metadata": {},
   "outputs": [
    {
     "data": {
      "text/plain": [
       "[('I', 'PRP'),\n",
       " ('went', 'VBD'),\n",
       " ('to', 'TO'),\n",
       " ('the', 'DT'),\n",
       " ('bank', 'NN'),\n",
       " ('to', 'TO'),\n",
       " ('deposit', 'VB'),\n",
       " ('some', 'DT'),\n",
       " ('money', 'NN'),\n",
       " ('.', '.')]"
      ]
     },
     "execution_count": 87,
     "metadata": {},
     "output_type": "execute_result"
    }
   ],
   "source": [
    "nltk.pos_tag(word_tokenize(\"I\twent\tto\tthe\tbank\tto\tdeposit\tsome\tmoney.\"))"
   ]
  },
  {
   "cell_type": "code",
   "execution_count": null,
   "id": "f467d1b5-e388-499c-9914-9e420427a772",
   "metadata": {},
   "outputs": [],
   "source": []
  }
 ],
 "metadata": {
  "kernelspec": {
   "display_name": "Python 3 (ipykernel)",
   "language": "python",
   "name": "python3"
  },
  "language_info": {
   "codemirror_mode": {
    "name": "ipython",
    "version": 3
   },
   "file_extension": ".py",
   "mimetype": "text/x-python",
   "name": "python",
   "nbconvert_exporter": "python",
   "pygments_lexer": "ipython3",
   "version": "3.10.4"
  }
 },
 "nbformat": 4,
 "nbformat_minor": 5
}
